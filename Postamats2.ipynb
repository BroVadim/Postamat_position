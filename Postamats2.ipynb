{
 "cells": [
  {
   "cell_type": "code",
   "execution_count": 1,
   "id": "1d6b5fb4",
   "metadata": {},
   "outputs": [],
   "source": [
    "import re\n",
    "import pandas as pd\n",
    "from collections import Counter\n",
    "import json\n",
    "import urllib\n",
    "import requests\n",
    "from tqdm import tqdm\n",
    "import geocoder"
   ]
  },
  {
   "cell_type": "code",
   "execution_count": 2,
   "id": "85979c65",
   "metadata": {},
   "outputs": [],
   "source": [
    "xl = pd.ExcelFile('постаматы-ВСП-ПВЗ на 01.12.2022.xlsx')\n",
    "sheet_names = xl.sheet_names"
   ]
  },
  {
   "cell_type": "code",
   "execution_count": 3,
   "id": "67e8ad12",
   "metadata": {},
   "outputs": [],
   "source": [
    "df = xl.parse(sheet_names[0], skiprows=1)"
   ]
  },
  {
   "cell_type": "code",
   "execution_count": 4,
   "id": "fc65d1f8",
   "metadata": {},
   "outputs": [],
   "source": [
    "df.columns = ['Номер постамата','Дата ввода в эксплуатацию',\n",
    "              'Адрес постамата','Режим работы', 'Аренда', 'Пусто']\n",
    "df = df.drop(columns=['Пусто'])\n",
    "df = df.fillna('НЕТ')"
   ]
  },
  {
   "cell_type": "code",
   "execution_count": 5,
   "id": "b737b8d0",
   "metadata": {},
   "outputs": [],
   "source": [
    "def clean_adress(address):\n",
    "    address = re.sub('^\\d+,\\s+','',address)\n",
    "    replace_dict = {\n",
    "        ' г ':'город ',' д ':' дом ',\n",
    "        ' ул ':'улица ',' пл ':'площадь ',\n",
    "        ' ДОМ':'дом ','пр-кт':'проспект ',\n",
    "        'б-р':'бульвар ','р-н':'район ',\n",
    "        'обл,':'область,','ст-ца':' станица ',\n",
    "        ' стр ':' строение ',' им ':'имени ',\n",
    "        ' к ':' корпус ',' им. ':'имени',\n",
    "        ' г. ':'город ',' ул. ':' улица ',\n",
    "        'Респ ':'Республика ',' рп ':'рабочий поселок '\n",
    "    }\n",
    "    for key in replace_dict.keys():\n",
    "        address = address.replace(key,replace_dict[key])\n",
    "    return re.sub('\\s{2,}',' ',address)"
   ]
  },
  {
   "cell_type": "code",
   "execution_count": 6,
   "id": "fc45818e",
   "metadata": {},
   "outputs": [],
   "source": [
    "def geo(address):\n",
    "    rel, lat,lon = 0,0,0\n",
    "    try:\n",
    "        response = geocoder.arcgis(address).geojson\n",
    "        rel = response['features'][0]['properties']['score'] #score\n",
    "        lat = response['features'][0]['properties']['lat']\n",
    "        lon = response['features'][0]['properties']['lng']\n",
    "    except Exception as error:\n",
    "        print(f'{address}:{error}')\n",
    "    finally:\n",
    "        return rel, lat, lon"
   ]
  },
  {
   "cell_type": "code",
   "execution_count": 7,
   "id": "fcc27bb5",
   "metadata": {},
   "outputs": [],
   "source": [
    "df['Адрес постамата 2'] = df['Адрес постамата'].apply(lambda x: clean_adress(x))\n",
    "addresses = df['Адрес постамата 2'].tolist()"
   ]
  },
  {
   "cell_type": "code",
   "execution_count": 10,
   "id": "ba6f8a65",
   "metadata": {},
   "outputs": [
    {
     "name": "stderr",
     "output_type": "stream",
     "text": [
      "100%|██████████████████████████████████████████████████████████████████████████████| 3000/3000 [41:59<00:00,  1.19it/s]\n"
     ]
    }
   ],
   "source": [
    "res = []\n",
    "for address in tqdm(addresses[3000:6000]):\n",
    "    rel, lat,lng = geo(address)\n",
    "    res.append([rel,lat,lng,address])\n",
    "res_df = pd.DataFrame(res,columns = ['Точность','Широта','Долгота','Адрес'])\n",
    "res_df.to_excel('Part3.xlsx')"
   ]
  },
  {
   "cell_type": "code",
   "execution_count": null,
   "id": "18487d29",
   "metadata": {},
   "outputs": [],
   "source": [
    "# g = geocoder.arcgis('Ярославская область, Некоузский район , село Новый Некоуз,улица Советская,дом 50')\n",
    "# g.geojson"
   ]
  },
  {
   "cell_type": "code",
   "execution_count": null,
   "id": "c243ea1d",
   "metadata": {},
   "outputs": [],
   "source": []
  },
  {
   "cell_type": "code",
   "execution_count": null,
   "id": "e7d64a5e",
   "metadata": {},
   "outputs": [],
   "source": []
  }
 ],
 "metadata": {
  "kernelspec": {
   "display_name": "Python 3",
   "language": "python",
   "name": "python3"
  },
  "language_info": {
   "codemirror_mode": {
    "name": "ipython",
    "version": 3
   },
   "file_extension": ".py",
   "mimetype": "text/x-python",
   "name": "python",
   "nbconvert_exporter": "python",
   "pygments_lexer": "ipython3",
   "version": "3.8.1"
  }
 },
 "nbformat": 4,
 "nbformat_minor": 5
}
