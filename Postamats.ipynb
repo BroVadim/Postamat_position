{
 "cells": [
  {
   "cell_type": "code",
   "execution_count": 1,
   "id": "1d6b5fb4",
   "metadata": {},
   "outputs": [],
   "source": [
    "import re\n",
    "import pandas as pd\n",
    "from collections import Counter\n",
    "import json\n",
    "import urllib\n",
    "import requests\n",
    "from tqdm import tqdm\n",
    "import geocoder"
   ]
  },
  {
   "cell_type": "code",
   "execution_count": 2,
   "id": "b737b8d0",
   "metadata": {},
   "outputs": [],
   "source": [
    "def clean_adress(address):\n",
    "    address = re.sub('^\\d+,\\s+','',address)\n",
    "    replace_dict = {\n",
    "        ' г ':'город ',' д ':' дом ',\n",
    "        ' ул ':'улица ',' пл ':'площадь ',\n",
    "        ' ДОМ':'дом ','пр-кт':'проспект ',\n",
    "        'б-р':'бульвар ','р-н':'район ',\n",
    "        'обл,':'область,','ст-ца':' станица ',\n",
    "        ' стр ':' строение ',' им ':'имени ',\n",
    "        ' к ':' корпус ',' им. ':'имени',\n",
    "        ' г. ':'город ',' ул. ':' улица ',\n",
    "        'Респ ':'Республика ',' рп ':'рабочий поселок '\n",
    "    }\n",
    "    for key in replace_dict.keys():\n",
    "        address = address.replace(key,replace_dict[key])\n",
    "    return re.sub('\\s{2,}',' ',address)"
   ]
  },
  {
   "cell_type": "code",
   "execution_count": null,
   "id": "85979c65",
   "metadata": {},
   "outputs": [],
   "source": [
    "xl = pd.ExcelFile('постаматы-ВСП-ПВЗ на 01.12.2022.xlsx')\n",
    "sheet_names = xl.sheet_names"
   ]
  },
  {
   "cell_type": "code",
   "execution_count": null,
   "id": "67e8ad12",
   "metadata": {},
   "outputs": [],
   "source": [
    "df = xl.parse(sheet_names[1], skiprows=1)"
   ]
  },
  {
   "cell_type": "code",
   "execution_count": null,
   "id": "9292daeb",
   "metadata": {},
   "outputs": [],
   "source": [
    "df = df.fillna('НЕТ')"
   ]
  },
  {
   "cell_type": "code",
   "execution_count": null,
   "id": "fc65d1f8",
   "metadata": {},
   "outputs": [],
   "source": [
    "df.columns = ['Номер постамата','Дата ввода в эксплуатацию',\n",
    "              'Адрес постамата','Режим работы', 'Аренда']\n",
    "df['Адрес постамата'] = df['Адрес постамата'].apply(lambda x: clean_adress(x))"
   ]
  },
  {
   "cell_type": "code",
   "execution_count": null,
   "id": "2ed3b987",
   "metadata": {},
   "outputs": [],
   "source": [
    "df.columns = ['Номер ВСП/ПВЗ','Дата открытия ВСП/ПВЗ','Адрес ВСП/ПВЗ', 'Режим работы ВСП/ПВЗ']\n",
    "df['Адрес ВСП/ПВЗ'] = df['Адрес ВСП/ПВЗ'].apply(lambda x: clean_adress(x))"
   ]
  },
  {
   "cell_type": "code",
   "execution_count": null,
   "id": "53723047",
   "metadata": {},
   "outputs": [],
   "source": [
    "df.to_csv('VSP.csv',sep='|', index=False)"
   ]
  },
  {
   "cell_type": "code",
   "execution_count": null,
   "id": "91ed4295",
   "metadata": {},
   "outputs": [],
   "source": [
    "df_csv = pd.read_csv('VSP.csv',sep='|')"
   ]
  },
  {
   "cell_type": "code",
   "execution_count": null,
   "id": "248921ec",
   "metadata": {},
   "outputs": [],
   "source": []
  },
  {
   "cell_type": "code",
   "execution_count": null,
   "id": "eaee0d11",
   "metadata": {},
   "outputs": [],
   "source": [
    "pickpoint = pd.read_excel('postamats.xls')"
   ]
  },
  {
   "cell_type": "code",
   "execution_count": null,
   "id": "d8d0f659",
   "metadata": {
    "scrolled": true
   },
   "outputs": [],
   "source": [
    "pickpoint = pickpoint[['ID точки',\n",
    "                  'Город','Область',\n",
    "                  'Тип Пункта',\n",
    "                  'Название пункта приема/выдачи','Адрес пункта приема/выдачи','Время работы','Широта','Долгота']]"
   ]
  },
  {
   "cell_type": "code",
   "execution_count": null,
   "id": "e0cf0dd4",
   "metadata": {},
   "outputs": [],
   "source": [
    "pickpoint['Город'] = pickpoint['Город'].apply(lambda x: f'город {x},')\n",
    "pickpoint['Область'] = pickpoint['Область'].apply(lambda x: f'{x},')\n",
    "pickpoint['Адрес пункта приема/выдачи'] = pickpoint['Адрес пункта приема/выдачи'].apply(lambda x: re.sub('^\\d+,','',x))\n",
    "pickpoint['Адрес'] = pickpoint['Город'] + pickpoint['Область'] + pickpoint['Адрес пункта приема/выдачи']\n",
    "columns = ['ID точки','Адрес','Тип Пункта','Название пункта приема/выдачи','Время работы','Широта','Долгота']\n",
    "pickpoint = pickpoint[columns]\n",
    "#pickpoint = pickpoint.drop(columns=['Город','Область','Адрес пункта приема/выдачи'])"
   ]
  },
  {
   "cell_type": "code",
   "execution_count": null,
   "id": "c1e9788f",
   "metadata": {},
   "outputs": [],
   "source": [
    "pickpoint.head()"
   ]
  },
  {
   "cell_type": "code",
   "execution_count": null,
   "id": "e7d64a5e",
   "metadata": {},
   "outputs": [],
   "source": [
    "pickpoint.to_csv('Pickpoint.csv',sep='|',index=False)"
   ]
  },
  {
   "cell_type": "code",
   "execution_count": null,
   "id": "9a5d83c7",
   "metadata": {},
   "outputs": [],
   "source": []
  },
  {
   "cell_type": "code",
   "execution_count": null,
   "id": "ae0679e0",
   "metadata": {},
   "outputs": [],
   "source": []
  },
  {
   "cell_type": "code",
   "execution_count": 3,
   "id": "79c803b1",
   "metadata": {},
   "outputs": [],
   "source": [
    "import pandas as pd"
   ]
  },
  {
   "cell_type": "code",
   "execution_count": 4,
   "id": "1502b9f6",
   "metadata": {},
   "outputs": [],
   "source": [
    "vsps= pd.read_csv('VSP.csv',sep='|')"
   ]
  },
  {
   "cell_type": "code",
   "execution_count": 5,
   "id": "253494ce",
   "metadata": {},
   "outputs": [
    {
     "data": {
      "text/html": [
       "<div>\n",
       "<style scoped>\n",
       "    .dataframe tbody tr th:only-of-type {\n",
       "        vertical-align: middle;\n",
       "    }\n",
       "\n",
       "    .dataframe tbody tr th {\n",
       "        vertical-align: top;\n",
       "    }\n",
       "\n",
       "    .dataframe thead th {\n",
       "        text-align: right;\n",
       "    }\n",
       "</style>\n",
       "<table border=\"1\" class=\"dataframe\">\n",
       "  <thead>\n",
       "    <tr style=\"text-align: right;\">\n",
       "      <th></th>\n",
       "      <th>Номер ВСП/ПВЗ</th>\n",
       "      <th>Дата открытия ВСП/ПВЗ</th>\n",
       "      <th>Адрес ВСП/ПВЗ</th>\n",
       "      <th>Режим работы ВСП/ПВЗ</th>\n",
       "    </tr>\n",
       "  </thead>\n",
       "  <tbody>\n",
       "    <tr>\n",
       "      <th>0</th>\n",
       "      <td>8592/01</td>\n",
       "      <td>2020-09-28 03:14:26</td>\n",
       "      <td>г Белгород,улица Князя Трубецкого, дом 24</td>\n",
       "      <td>ПН-ПТ 09:00-17:30, СБ 09:00-13:30, ВС выходной</td>\n",
       "    </tr>\n",
       "    <tr>\n",
       "      <th>1</th>\n",
       "      <td>8592/010</td>\n",
       "      <td>2021-02-01 14:11:51</td>\n",
       "      <td>г Белгород,улица Некрасова, дом 5Б/8</td>\n",
       "      <td>ПН-ПТ 09:00-18:00, СБ 10:00-13:30, ВС выходной</td>\n",
       "    </tr>\n",
       "    <tr>\n",
       "      <th>2</th>\n",
       "      <td>8592/0100</td>\n",
       "      <td>2020-09-25 10:59:46</td>\n",
       "      <td>Белгородская область,город Алексеевка, пер 1-й...</td>\n",
       "      <td>ПН-ПТ 08:00-17:00, СБ 08:00-13:30, ВС выходной</td>\n",
       "    </tr>\n",
       "    <tr>\n",
       "      <th>3</th>\n",
       "      <td>8592/012</td>\n",
       "      <td>2021-02-01 14:11:51</td>\n",
       "      <td>г Белгород,улица Железнякова, дом 18А</td>\n",
       "      <td>ПН-ПТ 09:00-18:00, СБ 09:00-13:00, ВС выходной</td>\n",
       "    </tr>\n",
       "    <tr>\n",
       "      <th>4</th>\n",
       "      <td>8592/0127</td>\n",
       "      <td>2021-02-24 17:08:57</td>\n",
       "      <td>Белгородская область,город Бирюч,улица Карла М...</td>\n",
       "      <td>ПН-ПТ 08:00-16:30, СБ 08:30-13:30, ВС выходной</td>\n",
       "    </tr>\n",
       "  </tbody>\n",
       "</table>\n",
       "</div>"
      ],
      "text/plain": [
       "  Номер ВСП/ПВЗ Дата открытия ВСП/ПВЗ  \\\n",
       "0       8592/01   2020-09-28 03:14:26   \n",
       "1      8592/010   2021-02-01 14:11:51   \n",
       "2     8592/0100   2020-09-25 10:59:46   \n",
       "3      8592/012   2021-02-01 14:11:51   \n",
       "4     8592/0127   2021-02-24 17:08:57   \n",
       "\n",
       "                                       Адрес ВСП/ПВЗ  \\\n",
       "0          г Белгород,улица Князя Трубецкого, дом 24   \n",
       "1               г Белгород,улица Некрасова, дом 5Б/8   \n",
       "2  Белгородская область,город Алексеевка, пер 1-й...   \n",
       "3              г Белгород,улица Железнякова, дом 18А   \n",
       "4  Белгородская область,город Бирюч,улица Карла М...   \n",
       "\n",
       "                             Режим работы ВСП/ПВЗ  \n",
       "0  ПН-ПТ 09:00-17:30, СБ 09:00-13:30, ВС выходной  \n",
       "1  ПН-ПТ 09:00-18:00, СБ 10:00-13:30, ВС выходной  \n",
       "2  ПН-ПТ 08:00-17:00, СБ 08:00-13:30, ВС выходной  \n",
       "3  ПН-ПТ 09:00-18:00, СБ 09:00-13:00, ВС выходной  \n",
       "4  ПН-ПТ 08:00-16:30, СБ 08:30-13:30, ВС выходной  "
      ]
     },
     "execution_count": 5,
     "metadata": {},
     "output_type": "execute_result"
    }
   ],
   "source": [
    "vsps.head()"
   ]
  },
  {
   "cell_type": "code",
   "execution_count": 6,
   "id": "45d34733",
   "metadata": {},
   "outputs": [
    {
     "data": {
      "text/plain": [
       "(5350, 4)"
      ]
     },
     "execution_count": 6,
     "metadata": {},
     "output_type": "execute_result"
    }
   ],
   "source": [
    "vsps.shape"
   ]
  },
  {
   "cell_type": "code",
   "execution_count": 15,
   "id": "6652d54a",
   "metadata": {},
   "outputs": [
    {
     "data": {
      "text/plain": [
       "5348"
      ]
     },
     "execution_count": 15,
     "metadata": {},
     "output_type": "execute_result"
    }
   ],
   "source": [
    "len(vsps['Адрес ВСП/ПВЗ'].unique())"
   ]
  },
  {
   "cell_type": "code",
   "execution_count": 8,
   "id": "521cc51b",
   "metadata": {},
   "outputs": [],
   "source": [
    "sp =  pd.read_excel('Second_page.xlsx')"
   ]
  },
  {
   "cell_type": "code",
   "execution_count": 9,
   "id": "ebb56d36",
   "metadata": {},
   "outputs": [
    {
     "data": {
      "text/html": [
       "<div>\n",
       "<style scoped>\n",
       "    .dataframe tbody tr th:only-of-type {\n",
       "        vertical-align: middle;\n",
       "    }\n",
       "\n",
       "    .dataframe tbody tr th {\n",
       "        vertical-align: top;\n",
       "    }\n",
       "\n",
       "    .dataframe thead th {\n",
       "        text-align: right;\n",
       "    }\n",
       "</style>\n",
       "<table border=\"1\" class=\"dataframe\">\n",
       "  <thead>\n",
       "    <tr style=\"text-align: right;\">\n",
       "      <th></th>\n",
       "      <th>Точность</th>\n",
       "      <th>Широта</th>\n",
       "      <th>Долгота</th>\n",
       "      <th>Адрес</th>\n",
       "    </tr>\n",
       "  </thead>\n",
       "  <tbody>\n",
       "    <tr>\n",
       "      <th>0</th>\n",
       "      <td>100.00</td>\n",
       "      <td>50.59265</td>\n",
       "      <td>36.59621</td>\n",
       "      <td>г Белгород,улица Князя Трубецкого, дом 24</td>\n",
       "    </tr>\n",
       "    <tr>\n",
       "      <th>1</th>\n",
       "      <td>98.62</td>\n",
       "      <td>50.61572</td>\n",
       "      <td>36.58259</td>\n",
       "      <td>г Белгород,улица Некрасова, дом 5Б/8</td>\n",
       "    </tr>\n",
       "    <tr>\n",
       "      <th>2</th>\n",
       "      <td>96.08</td>\n",
       "      <td>50.62789</td>\n",
       "      <td>38.68997</td>\n",
       "      <td>Белгородская область,город Алексеевка, пер 1-й...</td>\n",
       "    </tr>\n",
       "    <tr>\n",
       "      <th>3</th>\n",
       "      <td>100.00</td>\n",
       "      <td>50.63256</td>\n",
       "      <td>36.57629</td>\n",
       "      <td>г Белгород,улица Железнякова, дом 18А</td>\n",
       "    </tr>\n",
       "    <tr>\n",
       "      <th>4</th>\n",
       "      <td>95.92</td>\n",
       "      <td>50.65026</td>\n",
       "      <td>38.40225</td>\n",
       "      <td>Белгородская область,город Бирюч,улица Карла М...</td>\n",
       "    </tr>\n",
       "  </tbody>\n",
       "</table>\n",
       "</div>"
      ],
      "text/plain": [
       "   Точность    Широта   Долгота  \\\n",
       "0    100.00  50.59265  36.59621   \n",
       "1     98.62  50.61572  36.58259   \n",
       "2     96.08  50.62789  38.68997   \n",
       "3    100.00  50.63256  36.57629   \n",
       "4     95.92  50.65026  38.40225   \n",
       "\n",
       "                                               Адрес  \n",
       "0          г Белгород,улица Князя Трубецкого, дом 24  \n",
       "1               г Белгород,улица Некрасова, дом 5Б/8  \n",
       "2  Белгородская область,город Алексеевка, пер 1-й...  \n",
       "3              г Белгород,улица Железнякова, дом 18А  \n",
       "4  Белгородская область,город Бирюч,улица Карла М...  "
      ]
     },
     "execution_count": 9,
     "metadata": {},
     "output_type": "execute_result"
    }
   ],
   "source": [
    "sp.head()"
   ]
  },
  {
   "cell_type": "code",
   "execution_count": 10,
   "id": "86ecc269",
   "metadata": {},
   "outputs": [
    {
     "data": {
      "text/plain": [
       "(5350, 4)"
      ]
     },
     "execution_count": 10,
     "metadata": {},
     "output_type": "execute_result"
    }
   ],
   "source": [
    "sp.shape"
   ]
  },
  {
   "cell_type": "code",
   "execution_count": 11,
   "id": "979b97d8",
   "metadata": {},
   "outputs": [],
   "source": [
    "res_df = pd.merge(vsps, sp, left_on='Адрес ВСП/ПВЗ', right_on='Адрес')"
   ]
  },
  {
   "cell_type": "code",
   "execution_count": 12,
   "id": "4737460e",
   "metadata": {},
   "outputs": [
    {
     "data": {
      "text/html": [
       "<div>\n",
       "<style scoped>\n",
       "    .dataframe tbody tr th:only-of-type {\n",
       "        vertical-align: middle;\n",
       "    }\n",
       "\n",
       "    .dataframe tbody tr th {\n",
       "        vertical-align: top;\n",
       "    }\n",
       "\n",
       "    .dataframe thead th {\n",
       "        text-align: right;\n",
       "    }\n",
       "</style>\n",
       "<table border=\"1\" class=\"dataframe\">\n",
       "  <thead>\n",
       "    <tr style=\"text-align: right;\">\n",
       "      <th></th>\n",
       "      <th>Номер ВСП/ПВЗ</th>\n",
       "      <th>Дата открытия ВСП/ПВЗ</th>\n",
       "      <th>Адрес ВСП/ПВЗ</th>\n",
       "      <th>Режим работы ВСП/ПВЗ</th>\n",
       "      <th>Точность</th>\n",
       "      <th>Широта</th>\n",
       "      <th>Долгота</th>\n",
       "      <th>Адрес</th>\n",
       "    </tr>\n",
       "  </thead>\n",
       "  <tbody>\n",
       "    <tr>\n",
       "      <th>0</th>\n",
       "      <td>8592/01</td>\n",
       "      <td>2020-09-28 03:14:26</td>\n",
       "      <td>г Белгород,улица Князя Трубецкого, дом 24</td>\n",
       "      <td>ПН-ПТ 09:00-17:30, СБ 09:00-13:30, ВС выходной</td>\n",
       "      <td>100.00</td>\n",
       "      <td>50.59265</td>\n",
       "      <td>36.59621</td>\n",
       "      <td>г Белгород,улица Князя Трубецкого, дом 24</td>\n",
       "    </tr>\n",
       "    <tr>\n",
       "      <th>1</th>\n",
       "      <td>8592/010</td>\n",
       "      <td>2021-02-01 14:11:51</td>\n",
       "      <td>г Белгород,улица Некрасова, дом 5Б/8</td>\n",
       "      <td>ПН-ПТ 09:00-18:00, СБ 10:00-13:30, ВС выходной</td>\n",
       "      <td>98.62</td>\n",
       "      <td>50.61572</td>\n",
       "      <td>36.58259</td>\n",
       "      <td>г Белгород,улица Некрасова, дом 5Б/8</td>\n",
       "    </tr>\n",
       "    <tr>\n",
       "      <th>2</th>\n",
       "      <td>8592/0100</td>\n",
       "      <td>2020-09-25 10:59:46</td>\n",
       "      <td>Белгородская область,город Алексеевка, пер 1-й...</td>\n",
       "      <td>ПН-ПТ 08:00-17:00, СБ 08:00-13:30, ВС выходной</td>\n",
       "      <td>96.08</td>\n",
       "      <td>50.62789</td>\n",
       "      <td>38.68997</td>\n",
       "      <td>Белгородская область,город Алексеевка, пер 1-й...</td>\n",
       "    </tr>\n",
       "    <tr>\n",
       "      <th>3</th>\n",
       "      <td>8592/012</td>\n",
       "      <td>2021-02-01 14:11:51</td>\n",
       "      <td>г Белгород,улица Железнякова, дом 18А</td>\n",
       "      <td>ПН-ПТ 09:00-18:00, СБ 09:00-13:00, ВС выходной</td>\n",
       "      <td>100.00</td>\n",
       "      <td>50.63256</td>\n",
       "      <td>36.57629</td>\n",
       "      <td>г Белгород,улица Железнякова, дом 18А</td>\n",
       "    </tr>\n",
       "    <tr>\n",
       "      <th>4</th>\n",
       "      <td>8592/0127</td>\n",
       "      <td>2021-02-24 17:08:57</td>\n",
       "      <td>Белгородская область,город Бирюч,улица Карла М...</td>\n",
       "      <td>ПН-ПТ 08:00-16:30, СБ 08:30-13:30, ВС выходной</td>\n",
       "      <td>95.92</td>\n",
       "      <td>50.65026</td>\n",
       "      <td>38.40225</td>\n",
       "      <td>Белгородская область,город Бирюч,улица Карла М...</td>\n",
       "    </tr>\n",
       "  </tbody>\n",
       "</table>\n",
       "</div>"
      ],
      "text/plain": [
       "  Номер ВСП/ПВЗ Дата открытия ВСП/ПВЗ  \\\n",
       "0       8592/01   2020-09-28 03:14:26   \n",
       "1      8592/010   2021-02-01 14:11:51   \n",
       "2     8592/0100   2020-09-25 10:59:46   \n",
       "3      8592/012   2021-02-01 14:11:51   \n",
       "4     8592/0127   2021-02-24 17:08:57   \n",
       "\n",
       "                                       Адрес ВСП/ПВЗ  \\\n",
       "0          г Белгород,улица Князя Трубецкого, дом 24   \n",
       "1               г Белгород,улица Некрасова, дом 5Б/8   \n",
       "2  Белгородская область,город Алексеевка, пер 1-й...   \n",
       "3              г Белгород,улица Железнякова, дом 18А   \n",
       "4  Белгородская область,город Бирюч,улица Карла М...   \n",
       "\n",
       "                             Режим работы ВСП/ПВЗ  Точность    Широта  \\\n",
       "0  ПН-ПТ 09:00-17:30, СБ 09:00-13:30, ВС выходной    100.00  50.59265   \n",
       "1  ПН-ПТ 09:00-18:00, СБ 10:00-13:30, ВС выходной     98.62  50.61572   \n",
       "2  ПН-ПТ 08:00-17:00, СБ 08:00-13:30, ВС выходной     96.08  50.62789   \n",
       "3  ПН-ПТ 09:00-18:00, СБ 09:00-13:00, ВС выходной    100.00  50.63256   \n",
       "4  ПН-ПТ 08:00-16:30, СБ 08:30-13:30, ВС выходной     95.92  50.65026   \n",
       "\n",
       "    Долгота                                              Адрес  \n",
       "0  36.59621          г Белгород,улица Князя Трубецкого, дом 24  \n",
       "1  36.58259               г Белгород,улица Некрасова, дом 5Б/8  \n",
       "2  38.68997  Белгородская область,город Алексеевка, пер 1-й...  \n",
       "3  36.57629              г Белгород,улица Железнякова, дом 18А  \n",
       "4  38.40225  Белгородская область,город Бирюч,улица Карла М...  "
      ]
     },
     "execution_count": 12,
     "metadata": {},
     "output_type": "execute_result"
    }
   ],
   "source": [
    "res_df.head()"
   ]
  },
  {
   "cell_type": "code",
   "execution_count": 17,
   "id": "21a1c14d",
   "metadata": {},
   "outputs": [
    {
     "data": {
      "text/plain": [
       "(5354, 7)"
      ]
     },
     "execution_count": 17,
     "metadata": {},
     "output_type": "execute_result"
    }
   ],
   "source": [
    "res_df.shape"
   ]
  },
  {
   "cell_type": "code",
   "execution_count": 16,
   "id": "418c4fac",
   "metadata": {},
   "outputs": [],
   "source": [
    "res_df = res_df.drop(columns= ['Адрес ВСП/ПВЗ'])"
   ]
  },
  {
   "cell_type": "code",
   "execution_count": 18,
   "id": "5b50ab91",
   "metadata": {},
   "outputs": [],
   "source": [
    "res_df.to_csv('VSPS.csv', sep='|', index=False)"
   ]
  },
  {
   "cell_type": "code",
   "execution_count": null,
   "id": "cb6634e6",
   "metadata": {},
   "outputs": [],
   "source": []
  }
 ],
 "metadata": {
  "kernelspec": {
   "display_name": "Python 3",
   "language": "python",
   "name": "python3"
  },
  "language_info": {
   "codemirror_mode": {
    "name": "ipython",
    "version": 3
   },
   "file_extension": ".py",
   "mimetype": "text/x-python",
   "name": "python",
   "nbconvert_exporter": "python",
   "pygments_lexer": "ipython3",
   "version": "3.8.1"
  }
 },
 "nbformat": 4,
 "nbformat_minor": 5
}
